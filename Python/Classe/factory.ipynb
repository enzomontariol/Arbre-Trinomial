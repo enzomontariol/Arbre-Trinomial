{
 "cells": [
  {
   "cell_type": "markdown",
   "metadata": {},
   "source": []
  },
  {
   "cell_type": "code",
   "execution_count": 9,
   "metadata": {},
   "outputs": [],
   "source": [
    "import datetime as dt\n",
    "import asyncio\n",
    "\n",
    "from module_option import Option\n",
    "from module_marche import DonneeMarche\n",
    "import module_noeud\n",
    "import module_arbre\n",
    "\n",
    "today = dt.date.today()\n",
    "today_1y = dt.date(today.year+1, today.month, today.day)\n",
    "\n",
    "spot = 100\n",
    "vol = 0.20\n",
    "discount_rate = risk_free = 0.02\n",
    "\n",
    "nb_pas = 10000\n",
    "donnée = DonneeMarche(today, spot, vol, discount_rate, risk_free)\n",
    "option = Option(maturite=today_1y, prix_exercice=120)\n",
    "\n",
    "arbre1 = module_arbre.Arbre(nb_pas, donnée, option)\n",
    "arbre2 = module_arbre.Arbre(nb_pas, donnée, option)"
   ]
  },
  {
   "cell_type": "code",
   "execution_count": 10,
   "metadata": {},
   "outputs": [
    {
     "name": "stdout",
     "output_type": "stream",
     "text": [
      "0:01:23.162379\n"
     ]
    }
   ],
   "source": [
    "now = dt.datetime.now()\n",
    "arbre1.planter_arbre_vanille()\n",
    "print(dt.datetime.now() - now)"
   ]
  },
  {
   "cell_type": "code",
   "execution_count": 11,
   "metadata": {},
   "outputs": [],
   "source": [
    "now = dt.datetime.now()\n",
    "await arbre2.planter_arbre_speed()\n",
    "print(dt.datetime.now() - now)"
   ]
  },
  {
   "cell_type": "code",
   "execution_count": 4,
   "metadata": {},
   "outputs": [
    {
     "name": "stdout",
     "output_type": "stream",
     "text": [
      "0:00:01.542388\n"
     ]
    }
   ],
   "source": [
    "now = dt.datetime.now()\n",
    "arbre2.branchage_bas()\n",
    "print(dt.datetime.now() - now)"
   ]
  },
  {
   "cell_type": "code",
   "execution_count": 5,
   "metadata": {},
   "outputs": [
    {
     "name": "stdout",
     "output_type": "stream",
     "text": [
      "0:00:01.188075\n"
     ]
    }
   ],
   "source": [
    "now = dt.datetime.now()\n",
    "arbre2.branchage_haut()\n",
    "print(dt.datetime.now() - now)"
   ]
  },
  {
   "cell_type": "code",
   "execution_count": 6,
   "metadata": {},
   "outputs": [
    {
     "data": {
      "text/plain": [
       "<module_noeud.Noeud at 0x1587fa5c350>"
      ]
     },
     "execution_count": 6,
     "metadata": {},
     "output_type": "execute_result"
    }
   ],
   "source": [
    "arbre.racine.futur_haut.futur_haut.futur_haut.bas.bas.bas.bas.bas.bas"
   ]
  },
  {
   "cell_type": "code",
   "execution_count": 19,
   "metadata": {},
   "outputs": [
    {
     "name": "stdout",
     "output_type": "stream",
     "text": [
      "False\n",
      "True\n",
      "False\n",
      "False\n",
      "False\n",
      "False\n"
     ]
    }
   ],
   "source": [
    "for a in [\"parent\", \"bas\",\"haut\",\"futur_centre\",\"futur_bas\",\"futur_haut\"] : \n",
    "    print(hasattr(arbre.racine.futur_centre.futur_centre.futur_centre.haut.haut.haut, a))\n"
   ]
  },
  {
   "cell_type": "code",
   "execution_count": 6,
   "metadata": {},
   "outputs": [
    {
     "data": {
      "text/plain": [
       "90.87991660377261"
      ]
     },
     "execution_count": 6,
     "metadata": {},
     "output_type": "execute_result"
    }
   ],
   "source": [
    "arbre.racine.prix_sj * ( 1+ 1/arbre.alpha) / 2"
   ]
  },
  {
   "cell_type": "code",
   "execution_count": 9,
   "metadata": {},
   "outputs": [
    {
     "data": {
      "text/plain": [
       "range(0, 3)"
      ]
     },
     "execution_count": 9,
     "metadata": {},
     "output_type": "execute_result"
    }
   ],
   "source": [
    "range(arbre.nb_pas)"
   ]
  },
  {
   "cell_type": "code",
   "execution_count": null,
   "metadata": {},
   "outputs": [],
   "source": []
  }
 ],
 "metadata": {
  "kernelspec": {
   "display_name": "Python 3",
   "language": "python",
   "name": "python3"
  },
  "language_info": {
   "codemirror_mode": {
    "name": "ipython",
    "version": 3
   },
   "file_extension": ".py",
   "mimetype": "text/x-python",
   "name": "python",
   "nbconvert_exporter": "python",
   "pygments_lexer": "ipython3",
   "version": "3.11.5"
  }
 },
 "nbformat": 4,
 "nbformat_minor": 2
}
